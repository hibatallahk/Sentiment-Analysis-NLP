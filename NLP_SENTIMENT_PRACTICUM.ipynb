{
  "nbformat": 4,
  "nbformat_minor": 0,
  "metadata": {
    "colab": {
      "name": "NLP_SENTIMENT_PRACTICUM.ipynb",
      "provenance": [],
      "authorship_tag": "ABX9TyOmJYhizmLNcHyNEm6klzwa",
      "include_colab_link": true
    },
    "kernelspec": {
      "name": "python3",
      "display_name": "Python 3"
    },
    "language_info": {
      "name": "python"
    }
  },
  "cells": [
    {
      "cell_type": "markdown",
      "metadata": {
        "id": "view-in-github",
        "colab_type": "text"
      },
      "source": [
        "<a href=\"https://colab.research.google.com/github/hibatallahk/SentimentAnalysisNLP/blob/main/NLP_SENTIMENT_PRACTICUM.ipynb\" target=\"_parent\"><img src=\"https://colab.research.google.com/assets/colab-badge.svg\" alt=\"Open In Colab\"/></a>"
      ]
    },
    {
      "cell_type": "markdown",
      "metadata": {
        "id": "SyyqhuLG5jsG"
      },
      "source": [
        "# Project Statement\n",
        "\n",
        "The Film Junky Union, a new edgy community for classic movie enthusiasts, is developing a system for filtering and categorizing movie reviews. The goal is to train a model to automatically detect negative reviews. You'll be using a dataset of IMBD movie reviews with polarity labelling to build a model for classifying positive and negative reviews. It will need to have an F1 score of at least 0.85."
      ]
    },
    {
      "cell_type": "code",
      "metadata": {
        "id": "uJf1AxZ1nmqA",
        "colab": {
          "base_uri": "https://localhost:8080/"
        },
        "outputId": "d3784b68-d1e5-47dc-9419-e09331350b40"
      },
      "source": [
        "import math\n",
        "import re\n",
        "import nltk\n",
        "import spacy\n",
        "import numpy as np\n",
        "import pandas as pd\n",
        "from PIL import Image # converting images into arrays\n",
        "\n",
        "import matplotlib\n",
        "import matplotlib.pyplot as plt\n",
        "import matplotlib.dates as mdates\n",
        "import seaborn as sns\n",
        "\n",
        "# install wordcloud\n",
        "#!pip install wordcloud \n",
        "import lightgbm as lgb\n",
        "\n",
        "# import PyTorch and transformers libraries\n",
        "import torch\n",
        "#import transformers\n",
        "\n",
        "# import package and its set of stopwords\n",
        "from wordcloud import WordCloud\n",
        "from nltk.corpus import stopwords \n",
        "from nltk.tokenize import word_tokenize\n",
        "from nltk.stem import WordNetLemmatizer\n",
        "from tqdm.auto import tqdm\n",
        "from sklearn.feature_extraction.text import TfidfVectorizer\n",
        "from sklearn.feature_extraction.text import CountVectorizer\n",
        "from sklearn.preprocessing import MinMaxScaler # for normalizing data\n",
        "\n",
        "# import metrics\n",
        "from sklearn import metrics\n",
        "from sklearn.metrics import f1_score, precision_recall_curve\n",
        "\n",
        "# import machine learning models\n",
        "from sklearn.dummy import DummyClassifier # dummy classifier\n",
        "from sklearn.linear_model import LogisticRegression # logistic regression\n",
        "from sklearn.naive_bayes import MultinomialNB # naive bayes classifier\n",
        "from lightgbm import LGBMClassifier # lightGBM classifier\n",
        "from sklearn.linear_model import SGDClassifier # stochastic gradient classifier\n",
        "\n",
        "import sys\n",
        "import warnings # ignore warnings\n",
        "warnings.filterwarnings(\"ignore\")\n",
        "\n",
        "print('Project libraries has been successfully been imported!')"
      ],
      "execution_count": 8,
      "outputs": [
        {
          "output_type": "stream",
          "name": "stdout",
          "text": [
            "Project libraries has been successfully been imported!\n"
          ]
        }
      ]
    },
    {
      "cell_type": "code",
      "metadata": {
        "id": "LTk-DFz35uT2"
      },
      "source": [
        ""
      ],
      "execution_count": null,
      "outputs": []
    }
  ]
}